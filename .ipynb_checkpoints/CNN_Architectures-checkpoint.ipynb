{
 "cells": [
  {
   "cell_type": "code",
   "execution_count": 0,
   "metadata": {
    "colab": {},
    "colab_type": "code",
    "id": "L51yU1QjhBib"
   },
   "outputs": [],
   "source": [
    "import numpy as np\n",
    "import pandas as pd\n",
    "import matplotlib.pyplot as plt\n",
    "import seaborn as sns"
   ]
  },
  {
   "cell_type": "code",
   "execution_count": 2,
   "metadata": {
    "colab": {
     "base_uri": "https://localhost:8080/",
     "height": 34
    },
    "colab_type": "code",
    "id": "1uMScEwehSp8",
    "outputId": "d8cc7fa6-d3e0-4866-94a4-5083f20bedf6"
   },
   "outputs": [
    {
     "name": "stderr",
     "output_type": "stream",
     "text": [
      "Using TensorFlow backend.\n"
     ]
    }
   ],
   "source": [
    "\n",
    "from keras.datasets import mnist\n",
    "from keras.models import Sequential\n",
    "from keras.layers import Dense, Dropout, Flatten\n",
    "from keras.layers import Conv2D, MaxPooling2D\n",
    "from keras.utils import np_utils"
   ]
  },
  {
   "cell_type": "code",
   "execution_count": 3,
   "metadata": {
    "colab": {
     "base_uri": "https://localhost:8080/",
     "height": 85
    },
    "colab_type": "code",
    "id": "GuWmbHWVhnFh",
    "outputId": "233a8f26-6e0a-4c68-ac89-2a8c684e6b02"
   },
   "outputs": [
    {
     "name": "stdout",
     "output_type": "stream",
     "text": [
      "Downloading data from https://s3.amazonaws.com/img-datasets/mnist.npz\n",
      "11493376/11490434 [==============================] - 0s 0us/step\n",
      "Number of training points is 60000\n",
      "Number of testing points is 10000\n"
     ]
    }
   ],
   "source": [
    "(x_train,y_train),(x_test,y_test)=mnist.load_data()\n",
    "print(\"Number of training points is {0}\".format(x_train.shape[0]))\n",
    "print(\"Number of testing points is {0}\".format(x_test.shape[0]))"
   ]
  },
  {
   "cell_type": "code",
   "execution_count": 4,
   "metadata": {
    "colab": {
     "base_uri": "https://localhost:8080/",
     "height": 286
    },
    "colab_type": "code",
    "id": "SoXv_2ELikhv",
    "outputId": "52c0e7cc-71b6-4f51-c43b-3b31769bb9ec"
   },
   "outputs": [
    {
     "name": "stdout",
     "output_type": "stream",
     "text": [
      "Class label for 0th datapoint is 5\n"
     ]
    },
    {
     "data": {
      "image/png": "[encoded data removed]",
      "text/plain": [
       "<Figure size 432x288 with 1 Axes>"
      ]
     },
     "metadata": {
      "tags": []
     },
     "output_type": "display_data"
    }
   ],
   "source": [
    "%matplotlib inline\n",
    "print(\"Class label for 0th datapoint is {0}\".format(y_train[0]))\n",
    "plt.imshow(x_train[0],cmap='gray')\n",
    "plt.show()"
   ]
  },
  {
   "cell_type": "code",
   "execution_count": 0,
   "metadata": {
    "colab": {},
    "colab_type": "code",
    "id": "SXCZtPprjYr4"
   },
   "outputs": [],
   "source": [
    "y_train = np_utils.to_categorical(y_train, 10)\n",
    "y_test = np_utils.to_categorical(y_test, 10)"
   ]
  },
  {
   "cell_type": "code",
   "execution_count": 0,
   "metadata": {
    "colab": {},
    "colab_type": "code",
    "id": "ZPT8auAJkE3U"
   },
   "outputs": [],
   "source": [
    "batch_size = 128\n",
    "num_classes = 10\n",
    "epochs = 12\n",
    "\n",
    "# input image dimensions\n",
    "from keras import backend as K\n",
    "img_rows, img_cols = 28, 28\n",
    "\n",
    "# the data, split between train and test sets\n",
    "if K.image_data_format() == 'channels_first':\n",
    "    x_train = x_train.reshape(x_train.shape[0], 1, img_rows, img_cols)\n",
    "    x_test = x_test.reshape(x_test.shape[0], 1, img_rows, img_cols)\n",
    "    input_shape = (1, img_rows, img_cols)\n",
    "else:\n",
    "    x_train = x_train.reshape(x_train.shape[0], img_rows, img_cols, 1)\n",
    "    x_test = x_test.reshape(x_test.shape[0], img_rows, img_cols, 1)\n",
    "    input_shape = (img_rows, img_cols, 1)"
   ]
  },
  {
   "cell_type": "code",
   "execution_count": 0,
   "metadata": {
    "colab": {},
    "colab_type": "code",
    "id": "wcHE8z4blXkL"
   },
   "outputs": [],
   "source": [
    "#Normalizing data\n",
    "x_train=x_train/255\n",
    "x_test=x_test/255"
   ]
  },
  {
   "cell_type": "code",
   "execution_count": 0,
   "metadata": {
    "colab": {},
    "colab_type": "code",
    "id": "AVS7HOJunneg"
   },
   "outputs": [],
   "source": [
    "def plt_dynamic(x, vy, ty, ax, colors=['b']):\n",
    "    ax.plot(x, vy, 'b', label=\"Validation Loss\")\n",
    "    ax.plot(x, ty, 'r', label=\"Train Loss\")\n",
    "    plt.legend()\n",
    "    plt.grid()\n",
    "    fig.canvas.draw()"
   ]
  },
  {
   "cell_type": "code",
   "execution_count": 0,
   "metadata": {
    "colab": {
     "base_uri": "https://localhost:8080/",
     "height": 578
    },
    "colab_type": "code",
    "id": "uK5bl7PHzUP2",
    "outputId": "e640d7d2-9574-416e-dace-29ad04fa2bbc"
   },
   "outputs": [
    {
     "name": "stdout",
     "output_type": "stream",
     "text": [
      "_________________________________________________________________\n",
      "Layer (type)                 Output Shape              Param #   \n",
      "=================================================================\n",
      "conv2d_114 (Conv2D)          (None, 28, 28, 16)        80        \n",
      "_________________________________________________________________\n",
      "conv2d_115 (Conv2D)          (None, 27, 27, 22)        1430      \n",
      "_________________________________________________________________\n",
      "conv2d_116 (Conv2D)          (None, 26, 26, 28)        2492      \n",
      "_________________________________________________________________\n",
      "max_pooling2d_30 (MaxPooling (None, 13, 13, 28)        0         \n",
      "_________________________________________________________________\n",
      "conv2d_117 (Conv2D)          (None, 13, 13, 32)        3616      \n",
      "_________________________________________________________________\n",
      "conv2d_118 (Conv2D)          (None, 12, 12, 40)        5160      \n",
      "_________________________________________________________________\n",
      "conv2d_119 (Conv2D)          (None, 11, 11, 50)        8050      \n",
      "_________________________________________________________________\n",
      "conv2d_120 (Conv2D)          (None, 10, 10, 64)        12864     \n",
      "_________________________________________________________________\n",
      "max_pooling2d_31 (MaxPooling (None, 5, 5, 64)          0         \n",
      "_________________________________________________________________\n",
      "dropout_12 (Dropout)         (None, 5, 5, 64)          0         \n",
      "_________________________________________________________________\n",
      "flatten_11 (Flatten)         (None, 1600)              0         \n",
      "_________________________________________________________________\n",
      "dense_21 (Dense)             (None, 128)               204928    \n",
      "_________________________________________________________________\n",
      "dense_22 (Dense)             (None, 10)                1290      \n",
      "=================================================================\n",
      "Total params: 239,910\n",
      "Trainable params: 239,910\n",
      "Non-trainable params: 0\n",
      "_________________________________________________________________\n"
     ]
    }
   ],
   "source": [
    "#Building a 7 Convolution layer Convnet Model\n",
    "from keras.layers.normalization import BatchNormalization\n",
    "from keras.layers import Dropout\n",
    "from keras.layers import Convolution2D\n",
    "from keras import backend as K\n",
    "from keras.initializers import he_normal\n",
    "\n",
    "#Sequential indicates that the output of 1 layer is given as input to another layer\n",
    "model_7=Sequential()\n",
    "\n",
    "#Convolution2D is a layer which responsible of performing Convolution Operation in images.Since the initial convolution\n",
    "#layers are responsible to detect horizontal and vertical edges ,More Formally initial convolution layers are responsible to\n",
    "#learn low level features of an images like edge detection etc.   \n",
    "\n",
    "model_7.add(Convolution2D(16, kernel_size=(2, 2),\n",
    "                 activation='relu',\n",
    "                 kernel_initializer=he_normal(seed=None),padding='same',input_shape=input_shape))\n",
    "\n",
    "#Relu activation function is used just because the function can introduce non-linearity and can map the non linear inputs to\n",
    "#outputs\n",
    "\n",
    "model_7.add(Convolution2D(22, kernel_size=(2, 2),activation='relu'))\n",
    "model_7.add(Convolution2D(28, kernel_size=(2, 2),activation='relu'))\n",
    "\n",
    "#Max pooling layer is responsible to progressively reduce the spatial size of the representation to reduce the amount of\n",
    "#parameters and computation in the network\n",
    "\n",
    "model_7.add(MaxPooling2D(pool_size=(2, 2)))\n",
    " \n",
    "model_7.add(Convolution2D(32, kernel_size=(2, 2),padding='same',activation='relu'))\n",
    "model_7.add(Convolution2D(40, kernel_size=(2, 2),activation='relu'))\n",
    "model_7.add(Convolution2D(50, kernel_size=(2, 2),activation='relu'))\n",
    "#There are 64 kernels as this is the final convolution layer.This layer is responsible to learn various complex features \n",
    "#about the image like color of the image,facial features etc\n",
    "model_7.add(Convolution2D(64, kernel_size=(2, 2),activation='relu'))\n",
    "model_7.add(MaxPooling2D(pool_size=(2, 2)))\n",
    "\n",
    "#DropOut Layer is added to prevent the model from overfitting.You can think dropout as a regularization if u know abt it.\n",
    "#Since if a NeuralNetwork has Fully Connected or dense layers then it has very high probability that it is going to overfit.\n",
    "#Dropout layer has a parameter named Dropout rate.\n",
    "\n",
    "model_7.add(Dropout(0.5))\n",
    "\n",
    "#Flatten layer will output 1-D array from the Matrix\n",
    "\n",
    "model_7.add(Flatten())\n",
    "model_7.add(Dense(128, activation='relu'))\n",
    "\n",
    "#A dense layer is added at the end of the network which is responsible to perform the actual classification task\n",
    "#The activation function used here is the softmax activation function.It outputs the probabilities for each of the class.And \n",
    "#then we take maximum of the probabilities to find the actual class label\n",
    "\n",
    "model_7.add(Dense(num_classes, activation='softmax'))\n",
    "\n",
    "model_7.summary()"
   ]
  },
  {
   "cell_type": "code",
   "execution_count": 0,
   "metadata": {
    "colab": {
     "base_uri": "https://localhost:8080/",
     "height": 442
    },
    "colab_type": "code",
    "id": "lIXml7Bt0HG2",
    "outputId": "91045ae6-c0ee-4306-d45a-98d63aa893e1"
   },
   "outputs": [
    {
     "name": "stdout",
     "output_type": "stream",
     "text": [
      "Train on 60000 samples, validate on 10000 samples\n",
      "Epoch 1/12\n",
      "60000/60000 [==============================] - 159s 3ms/step - loss: 0.2129 - acc: 0.9320 - val_loss: 0.0458 - val_acc: 0.9848\n",
      "Epoch 2/12\n",
      "60000/60000 [==============================] - 157s 3ms/step - loss: 0.0629 - acc: 0.9810 - val_loss: 0.0625 - val_acc: 0.9795\n",
      "Epoch 3/12\n",
      "60000/60000 [==============================] - 159s 3ms/step - loss: 0.0472 - acc: 0.9854 - val_loss: 0.0247 - val_acc: 0.9923\n",
      "Epoch 4/12\n",
      "60000/60000 [==============================] - 158s 3ms/step - loss: 0.0389 - acc: 0.9877 - val_loss: 0.0232 - val_acc: 0.9916\n",
      "Epoch 5/12\n",
      "60000/60000 [==============================] - 157s 3ms/step - loss: 0.0335 - acc: 0.9893 - val_loss: 0.0241 - val_acc: 0.9930\n",
      "Epoch 6/12\n",
      "60000/60000 [==============================] - 156s 3ms/step - loss: 0.0287 - acc: 0.9906 - val_loss: 0.0191 - val_acc: 0.9932\n",
      "Epoch 7/12\n",
      "60000/60000 [==============================] - 159s 3ms/step - loss: 0.0267 - acc: 0.9916 - val_loss: 0.0207 - val_acc: 0.9926\n",
      "Epoch 8/12\n",
      "60000/60000 [==============================] - 158s 3ms/step - loss: 0.0236 - acc: 0.9924 - val_loss: 0.0177 - val_acc: 0.9945\n",
      "Epoch 9/12\n",
      "60000/60000 [==============================] - 156s 3ms/step - loss: 0.0234 - acc: 0.9921 - val_loss: 0.0197 - val_acc: 0.9932\n",
      "Epoch 10/12\n",
      "60000/60000 [==============================] - 156s 3ms/step - loss: 0.0200 - acc: 0.9937 - val_loss: 0.0186 - val_acc: 0.9938\n",
      "Epoch 11/12\n",
      "60000/60000 [==============================] - 157s 3ms/step - loss: 0.0195 - acc: 0.9934 - val_loss: 0.0228 - val_acc: 0.9923\n",
      "Epoch 12/12\n",
      "60000/60000 [==============================] - 159s 3ms/step - loss: 0.0179 - acc: 0.9941 - val_loss: 0.0208 - val_acc: 0.9939\n"
     ]
    }
   ],
   "source": [
    "from keras.optimizers import Adagrad\n",
    "model_7.compile(loss='categorical_crossentropy',\n",
    "              optimizer='adam',\n",
    "              metrics=['accuracy'])\n",
    "history_7=model_7.fit(x_train, y_train,\n",
    "          batch_size=batch_size,\n",
    "          epochs=epochs,\n",
    "          verbose=1,\n",
    "          validation_data=(x_test, y_test))"
   ]
  },
  {
   "cell_type": "code",
   "execution_count": 0,
   "metadata": {
    "colab": {
     "base_uri": "https://localhost:8080/",
     "height": 317
    },
    "colab_type": "code",
    "id": "42i03yGf2uR0",
    "outputId": "f972757f-2770-4915-ea2d-85ae2a7eac26"
   },
   "outputs": [
    {
     "name": "stdout",
     "output_type": "stream",
     "text": [
      "Test score: 0.020760127860461036\n",
      "Test accuracy: 0.9939\n"
     ]
    },
    {
     "data": {
      "image/png": "[encoded data removed]",
      "text/plain": [
       "<Figure size 432x288 with 1 Axes>"
      ]
     },
     "metadata": {
      "tags": []
     },
     "output_type": "display_data"
    }
   ],
   "source": [
    "score = model_7.evaluate(x_test, y_test, verbose=0) \n",
    "print('Test score:', score[0]) \n",
    "print('Test accuracy:', score[1])\n",
    "\n",
    "fig,ax = plt.subplots(1,1)\n",
    "ax.set_xlabel('epoch') ; ax.set_ylabel('Categorical Crossentropy Loss')\n",
    "\n",
    "# list of epoch numbers\n",
    "x = list(range(1,epochs+1))\n",
    "\n",
    "#Training loss\n",
    "vy = history_7.history['val_loss']\n",
    "ty = history_7.history['loss']\n",
    "plt_dynamic(x, vy, ty, ax)"
   ]
  }
 ],
 "metadata": {
  "colab": {
   "collapsed_sections": [],
   "name": "Untitled2.ipynb",
   "provenance": [],
   "version": "0.3.2"
  },
  "kernelspec": {
   "display_name": "Python 3",
   "language": "python",
   "name": "python3"
  },
  "language_info": {
   "codemirror_mode": {
    "name": "ipython",
    "version": 3
   },
   "file_extension": ".py",
   "mimetype": "text/x-python",
   "name": "python",
   "nbconvert_exporter": "python",
   "pygments_lexer": "ipython3",
   "version": "3.6.5"
  }
 },
 "nbformat": 4,
 "nbformat_minor": 1
}
